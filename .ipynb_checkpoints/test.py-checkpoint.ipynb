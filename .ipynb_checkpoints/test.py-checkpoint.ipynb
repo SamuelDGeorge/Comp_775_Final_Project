{
 "cells": [
  {
   "cell_type": "code",
   "execution_count": 1,
   "metadata": {},
   "outputs": [],
   "source": [
    "import os"
   ]
  },
  {
   "cell_type": "code",
   "execution_count": 6,
   "metadata": {},
   "outputs": [],
   "source": []
  },
  {
   "cell_type": "code",
   "execution_count": 6,
   "metadata": {},
   "outputs": [],
   "source": [
    "startDate = {'2013-01-01'}"
   ]
  },
  {
   "cell_type": "code",
   "execution_count": 7,
   "metadata": {},
   "outputs": [],
   "source": [
    "endDate = {'2013-01-01'}"
   ]
  },
  {
   "cell_type": "code",
   "execution_count": 8,
   "metadata": {},
   "outputs": [],
   "source": [
    "knownTimeStamps = {'2013-01-01 00:00',\n",
    "    '2013-01-01 01:00',\n",
    "    '2013-01-01 02:00',\n",
    "    '2013-01-01 03:00',\n",
    "    '2013-01-01 04:00',\n",
    "    '2013-01-01 05:00',\n",
    "    '2013-01-01 06:00',\n",
    "    '2013-01-01 08:00',\n",
    "    '2013-01-01 10:00',\n",
    "    '2013-01-01 11:00',\n",
    "    '2013-01-01 12:00',\n",
    "    '2013-01-01 13:00',\n",
    "    '2013-01-01 16:00',\n",
    "    '2013-01-01 17:00',\n",
    "    '2013-01-01 18:00',\n",
    "    '2013-01-01 19:00',\n",
    "    '2013-01-01 20:00',\n",
    "    '2013-01-01 21:00',\n",
    "    '2013-01-01 23:00'}"
   ]
  },
  {
   "cell_type": "code",
   "execution_count": null,
   "metadata": {},
   "outputs": [],
   "source": [
    "humidity = {0.62,\n",
    "    0.64,\n",
    "    0.62,\n",
    "    0.63,\n",
    "    0.63,\n",
    "    0.64,\n",
    "    0.63,\n",
    "    0.64,\n",
    "    0.48,\n",
    "    0.46,\n",
    "    0.45,\n",
    "    0.44,\n",
    "    0.46,\n",
    "    0.47,\n",
    "    0.48,\n",
    "    0.49,\n",
    "    0.51,\n",
    "    0.52,\n",
    "    0.52\n",
    "    }"
   ]
  }
 ],
 "metadata": {
  "kernelspec": {
   "display_name": "Python 3",
   "language": "python",
   "name": "python3"
  },
  "language_info": {
   "codemirror_mode": {
    "name": "ipython",
    "version": 3
   },
   "file_extension": ".py",
   "mimetype": "text/x-python",
   "name": "python",
   "nbconvert_exporter": "python",
   "pygments_lexer": "ipython3",
   "version": "3.6.3"
  }
 },
 "nbformat": 4,
 "nbformat_minor": 2
}
