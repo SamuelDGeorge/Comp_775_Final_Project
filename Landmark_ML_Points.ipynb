{
 "cells": [
  {
   "cell_type": "code",
   "execution_count": null,
   "metadata": {},
   "outputs": [],
   "source": [
    "#All neccesary classes for project\n",
    "\n",
    "#general\n",
    "import seaborn as sns\n",
    "import scipy.stats as ss\n",
    "import pandas as pd\n",
    "import numpy as np\n",
    "import os\n",
    "import pickle\n",
    "import time\n",
    "import sys\n",
    "\n",
    "#for preprocessing\n",
    "from sklearn.model_selection import StratifiedShuffleSplit\n",
    "from sklearn.pipeline import Pipeline\n",
    "from sklearn.preprocessing import StandardScaler\n",
    "from sklearn.preprocessing import Imputer\n",
    "from sklearn.pipeline import FeatureUnion\n",
    "from sklearn.decomposition import PCA\n",
    "from sklearn.cluster import KMeans\n",
    "import tensorflow as tf\n",
    "\n",
    "#for machine learning\n",
    "from sklearn.ensemble import RandomForestClassifier\n",
    "from sklearn.ensemble import RandomForestRegressor\n",
    "from sklearn.metrics import mean_squared_error\n",
    "from sklearn.model_selection import cross_val_score\n",
    "from sklearn.model_selection import GridSearchCV\n",
    "from sklearn.model_selection import RandomizedSearchCV\n",
    "from scipy.stats import expon, reciprocal\n",
    "from sklearn.svm import SVR\n",
    "from sklearn.tree import DecisionTreeClassifier\n",
    "from sklearn.tree import export_graphviz\n",
    "\n",
    "#for evaluation\n",
    "from sklearn.metrics import confusion_matrix\n",
    "\n",
    "from sklearn.metrics import f1_score\n",
    "\n",
    "#for utility packages\n",
    "from Utilities.utilities import import_data\n",
    "from Utilities.utilities import DataFrameSelector\n",
    "from Utilities.utilities import CategoricalEncoder\n",
    "from Utilities.utilities import display_scores\n",
    "from Utilities.utilities import pipeline_transform\n",
    "from Utilities.utilities import reset_graph\n",
    "from Utilities.models import DNN_Model\n",
    "from Utilities.models import cross_val_score_dnn\n",
    "from functools import partial\n",
    "\n",
    "#image manipulation\n",
    "from PIL import Image as PI\n",
    "from resizeimage import resizeimage\n",
    "import matplotlib.image as mpimg\n",
    "import matplotlib.pyplot as plt\n",
    "from keras.utils.data_utils import get_file\n",
    "import imagenet_helper_files.vgg_preprocessing\n",
    "import tensorflow.contrib.slim as slim\n",
    "from tensorflow.contrib.slim.nets import resnet_v2\n",
    "import imagenet_helper_files.pnasnet as nas\n",
    "\n",
    "#Import Custom Functions\n",
    "from Utilities.model_builder import get_image\n",
    "from Utilities.model_builder import get_file_lists\n",
    "from Utilities.model_builder import parse_record\n",
    "from Utilities.model_builder import get_batch\n",
    "from Utilities.model_builder import build_iterator\n",
    "from Utilities.bounded_model_builder import build_bounded_iterator\n",
    "from Utilities.bounded_model_builder import build_bounded_iterator_points\n",
    "from Utilities.model_builder import get_values_imagenet\n",
    "from Utilities.model_builder import get_values_bounded\n",
    "from Utilities.model_builder import get_values_bounded_points\n",
    "from Utilities.models import log_dir_build\n",
    "from Utilities.utilities import generate_image\n",
    "from Utilities.utilities import generate_image_array\n",
    "from Utilities.cell_net_predictor import Binary_Categorical_Predictor\n",
    "from Utilities.build_image_data_notebook import process_dataset\n"
   ]
  },
  {
   "cell_type": "markdown",
   "metadata": {},
   "source": [
    "# Load the Data\n",
    "\n",
    "Here we will load the training and validation data in order to do training"
   ]
  },
  {
   "cell_type": "code",
   "execution_count": null,
   "metadata": {},
   "outputs": [],
   "source": [
    "#Build tf_records\n",
    "#Set Variables\n",
    "validation_directory = \"D:/Machine_Learning/Datasets/corpus_learning/validation\"\n",
    "train_directory = \"D:/Machine_Learning/Datasets/corpus_learning/train\"\n",
    "output_directory = \"D:/Machine_Learning/Datasets/corpus_learning/tf_records_2\""
   ]
  },
  {
   "cell_type": "code",
   "execution_count": 3,
   "metadata": {},
   "outputs": [
    {
     "data": {
      "text/plain": [
       "['D:/Machine_Learning/Datasets/corpus_learning/tf_records_2\\\\train-00000-of-00002',\n",
       " 'D:/Machine_Learning/Datasets/corpus_learning/tf_records_2\\\\train-00001-of-00002']"
      ]
     },
     "execution_count": 3,
     "metadata": {},
     "output_type": "execute_result"
    }
   ],
   "source": [
    "#Import TFRecords for both Training and Testing of the Dat\n",
    "#Use the build_image_data.py to create these sets from your data\n",
    "\n",
    "train_list, val_list = get_file_lists(output_directory)\n",
    "train_list"
   ]
  },
  {
   "cell_type": "code",
   "execution_count": null,
   "metadata": {},
   "outputs": [],
   "source": [
    "#Test pulling a piece of data out of the set to ensure that records were created properly\n",
    "with tf.Session() as sess:\n",
    "    #saver2.restore(sess, landmark_ml_model)\n",
    "    sess.run(iterator.initializer, feed_dict={filenames: val_list, batch_size: 1, num_epochs:1})\n",
    "    X_val, y_1,y_2,y_3,y_4, file = next_data\n",
    "    X_val, Y_1,Y_2,Y_3,Y_4, name = get_values_bounded_points(sess, X_val, y_1,y_2,y_3,y_4,file, 0)\n",
    "    #means = sess.run(final_pool)\n",
    "  "
   ]
  },
  {
   "cell_type": "code",
   "execution_count": null,
   "metadata": {},
   "outputs": [],
   "source": [
    "Y_val = np.array([])\n",
    "Y_val = np.append(Y_val,Y_1)\n",
    "Y_val = np.append(Y_val,Y_2)\n",
    "Y_val = np.append(Y_val,Y_3)\n",
    "Y_val = np.append(Y_val,Y_4)\n",
    "Y_val"
   ]
  },
  {
   "cell_type": "code",
   "execution_count": null,
   "metadata": {},
   "outputs": [],
   "source": [
    "#display an example and label\n",
    "\n",
    "x_val = X_val.reshape(331,331,3)\n",
    "y_val = Y_val\n",
    "x_array = y_val[0:8:2] \n",
    "y_array = y_val[1:8:2]\n",
    "\n"
   ]
  },
  {
   "cell_type": "code",
   "execution_count": null,
   "metadata": {},
   "outputs": [],
   "source": [
    "from matplotlib import pyplot as plt\n",
    "plt.imshow(x_val, interpolation='nearest')\n",
    "plt.scatter(x=x_array, y=y_array, c='r', s=40)\n",
    "plt.axis('on')\n",
    "plt.show()\n",
    "y_val"
   ]
  },
  {
   "cell_type": "code",
   "execution_count": null,
   "metadata": {},
   "outputs": [],
   "source": [
    "name\n"
   ]
  },
  {
   "cell_type": "markdown",
   "metadata": {},
   "source": [
    "# Build the Neural Network on top of Large Nas-Net\n",
    "\n",
    "Here we will build the Nas-Net and then stack our own network on top"
   ]
  },
  {
   "cell_type": "code",
   "execution_count": 4,
   "metadata": {},
   "outputs": [],
   "source": [
    "\n",
    "#import pnas_net model\n",
    "\n",
    "#Nasnet Model Location\n",
    "nas_net_model = 'D:/AI/models/pnas_net/model.ckpt'\n",
    "landmark_ml_logs = 'D:/AI/models/landmark_ml/logs'\n",
    "landmark_ml_model = 'D:/AI/models/landmark_ml/model/landmark_ml_points_v3'\n",
    "landmark_ml_model_best = 'D:/AI/models/landmark_ml/model/landmark_ml_points_best_v3'\n"
   ]
  },
  {
   "cell_type": "code",
   "execution_count": 7,
   "metadata": {},
   "outputs": [
    {
     "name": "stdout",
     "output_type": "stream",
     "text": [
      "INFO:tensorflow:A GPU is available on the machine, consider using NCHW data format for increased speed on GPU.\n"
     ]
    }
   ],
   "source": [
    "#Reset the graph \n",
    "reset_graph()\n",
    "\n",
    "#Set constants for Neural Network\n",
    "dropout_rate = 0.01\n",
    "learning_rate = 1\n",
    "#n_hidden1 = 2000\n",
    "n_hidden2 = 1000\n",
    "n_hidden3 = 500\n",
    "n_hidden4 = 100\n",
    "n_hidden5 = 50\n",
    "n_final_layer = 2\n",
    "\n",
    "\n",
    "\n",
    "\"\"\"\n",
    "#Placeholder for input data\n",
    "X = tf.placeholder(tf.float32, shape=[None, 331, 331, 3], name=\"input\")\n",
    "y = tf.placeholder(tf.float32, shape=[None,8], name=\"bounding_box\")\n",
    "\"\"\"\n",
    "\n",
    "filenames = tf.placeholder(tf.string, shape=[None],name=\"train_records\")\n",
    "batch_size = tf.placeholder(tf.int64, shape=[], name= \"Batch_Size\")\n",
    "num_epochs = tf.placeholder(tf.int64, shape=[], name= \"Num_epochs\")\n",
    "training = tf.placeholder_with_default(True, shape=(), name = 'training')\n",
    "\n",
    "\n",
    "iterator = build_bounded_iterator_points(True, filenames, batch_size, num_epochs=num_epochs, num_parallel_calls=8, num_points = 8)\n",
    "next_data = iterator.get_next()\n",
    "X,y_1,y_2,y_3,y_4,file = next_data\n",
    "\n",
    "\n",
    "#Define initalizer and batch normalization layers\n",
    "bn_batch_norm_layer = partial(tf.layers.batch_normalization, training=training, momentum=0.9)\n",
    "he_init = tf.contrib.layers.variance_scaling_initializer()\n",
    "\n",
    "\n",
    "#Import the Nas_Net and build it\n",
    "with slim.arg_scope(nas.pnasnet_large_arg_scope()):\n",
    "    net, end_points = nas.build_pnasnet_large(X, num_classes=1001, is_training=False)\n",
    "    \n",
    "    #A saver to load the pretrained Data\n",
    "    saver = tf.train.Saver(name=\"Original_Saver\")\n",
    "    \n",
    "    #For getting predictions from Original Network\n",
    "    pnas_net_predictions = tf.get_default_graph().get_tensor_by_name(\"final_layer/predictions:0\")\n",
    "    \n",
    "    #get indicies for doing reduction\n",
    "    indices = tf.get_default_graph().get_tensor_by_name(\"final_layer/Mean/reduction_indices:0\")\n",
    "    \n",
    "    #Load in the noder where we are going to connect our own network\n",
    "    last_feature_node = tf.get_default_graph().get_tensor_by_name(\"cell_11/cell_output/concat:0\")\n",
    "\n",
    "\n",
    "with tf.name_scope(\"Landmark_ML\"):\n",
    "    #Use a stop layer to freeze all the layers beneath in Nas-Net\n",
    "    \n",
    "    with tf.name_scope(\"Isolate_Image_Features\"):\n",
    "        #get the output of the last cell layer\n",
    "        stop_layer = tf.stop_gradient(last_feature_node)\n",
    "        starting_relu = tf.nn.relu(stop_layer, name=\"first_relu\")\n",
    "        #starting_relu = tf.nn.relu(last_feature_node, name=\"first_relu\")\n",
    "        mean_pool = tf.reduce_mean(starting_relu, indices, name=\"condensing_mean\")\n",
    "        to_add = tf.constant([331,331], dtype=tf.float32)\n",
    "        to_add_expanded = tf.expand_dims(to_add,0)\n",
    "        concat_value = tf.tile(to_add_expanded, [tf.shape(mean_pool)[0], 1])\n",
    "        \n",
    "        \n",
    "        final_pool = tf.concat([mean_pool, concat_value],1,name=\"Add_Size\" )\n",
    "        \n",
    "    \n",
    "    \"\"\"\n",
    "    with tf.name_scope(\"Hidden_Layer_1\"):\n",
    "        hidden1 = tf.layers.dense(mean_pool, n_hidden1, name=\"hidden1\", kernel_initializer=he_init)\n",
    "        #hidden1 = tf.layers.dense(last_feature_node, n_hidden1, name=\"hidden1\", kernel_initializer=he_init)\n",
    "        hidden1_drop = tf.layers.dropout(hidden1, dropout_rate, training=training)\n",
    "        bn1 = bn_batch_norm_layer(hidden1_drop)\n",
    "        bn1_act = tf.nn.relu(bn1)\n",
    "    \"\"\"\n",
    "    \n",
    "    with tf.name_scope(\"Hidden_Layer_2\"):\n",
    "        hidden2 = tf.layers.dense(final_pool, n_hidden2, name=\"hidden2\", kernel_initializer=he_init)\n",
    "        hidden2_drop = tf.layers.dropout(hidden2, dropout_rate, training=training)\n",
    "        bn2 = bn_batch_norm_layer(hidden2_drop)\n",
    "        bn2_act = tf.nn.relu(bn2)\n",
    "\n",
    "    \n",
    "    with tf.name_scope(\"Hidden_Layer_3\"):\n",
    "        hidden3 = tf.layers.dense(bn2_act, n_hidden3, name=\"hidden3\", kernel_initializer=he_init)\n",
    "        hidden3_drop = tf.layers.dropout(hidden3, dropout_rate, training=training)\n",
    "        bn3 = bn_batch_norm_layer(hidden3_drop)\n",
    "        bn3_act = tf.nn.relu(bn3) \n",
    "         \n",
    "    with tf.name_scope(\"Hidden_Layer_4\"):\n",
    "        hidden4 = tf.layers.dense(bn3_act, n_hidden4, name=\"hidden4\", kernel_initializer=he_init)\n",
    "        hidden4_drop = tf.layers.dropout(hidden4, dropout_rate, training=training)\n",
    "        bn4 = bn_batch_norm_layer(hidden4_drop)\n",
    "        bn4_act = tf.nn.relu(bn4) \n",
    "\n",
    "    with tf.name_scope(\"Point_1_Estimator\"):\n",
    "        with tf.name_scope(\"Hidden_Layer_5_1\"):\n",
    "            hidden5_1 = tf.layers.dense(bn4_act, n_hidden5, name=\"hidden5_1\", kernel_initializer=he_init)\n",
    "            hidden5_drop_1 = tf.layers.dropout(hidden5_1, dropout_rate, training=training)\n",
    "            bn5_1 = bn_batch_norm_layer(hidden5_drop_1)\n",
    "            bn5_act_1 = tf.nn.relu(bn5_1) \n",
    "\n",
    "\n",
    "        with tf.name_scope(\"P1\"):\n",
    "            p1 = tf.layers.dense(bn5_act_1, n_final_layer, name=\"outputs_1\", activation=tf.nn.relu)\n",
    "        \n",
    "    with tf.name_scope(\"Point_2_Estimator\"):    \n",
    "        with tf.name_scope(\"Hidden_Layer_5_2\"):\n",
    "            hidden5_2 = tf.layers.dense(bn4_act, n_hidden5, name=\"hidden5_2\", kernel_initializer=he_init)\n",
    "            hidden5_drop_2 = tf.layers.dropout(hidden5_2, dropout_rate, training=training)\n",
    "            bn5_2 = bn_batch_norm_layer(hidden5_drop_2)\n",
    "            bn5_act_2 = tf.nn.relu(bn5_2) \n",
    "\n",
    "\n",
    "        with tf.name_scope(\"P2\"):\n",
    "            p2 = tf.layers.dense(bn5_act_2, n_final_layer, name=\"outputs_2\", activation=tf.nn.relu)\n",
    "\n",
    "    with tf.name_scope(\"Point_3_Estimator\"):            \n",
    "        with tf.name_scope(\"Hidden_Layer_5_3\"):\n",
    "            hidden5_3 = tf.layers.dense(bn4_act, n_hidden5, name=\"hidden5_3\", kernel_initializer=he_init)\n",
    "            hidden5_drop_3 = tf.layers.dropout(hidden5_3, dropout_rate, training=training)\n",
    "            bn5_3 = bn_batch_norm_layer(hidden5_drop_3)\n",
    "            bn5_act_3 = tf.nn.relu(bn5_3) \n",
    "\n",
    "        with tf.name_scope(\"P3\"):\n",
    "            p3 = tf.layers.dense(bn5_act_3, n_final_layer, name=\"outputs_3\", activation=tf.nn.relu)\n",
    "\n",
    "    with tf.name_scope(\"Point_4_Estimator\"):\n",
    "        with tf.name_scope(\"Hidden_Layer_5_4\"):\n",
    "            hidden5_4 = tf.layers.dense(bn4_act, n_hidden5, name=\"hidden5_4\", kernel_initializer=he_init)\n",
    "            hidden5_drop_4 = tf.layers.dropout(hidden5_4, dropout_rate, training=training)\n",
    "            bn5_4 = bn_batch_norm_layer(hidden5_drop_4)\n",
    "            bn5_act_4 = tf.nn.relu(bn5_4) \n",
    "\n",
    "        with tf.name_scope(\"P4\"):\n",
    "            p4 = tf.layers.dense(bn5_act_4, n_final_layer, name=\"outputs_4\", activation=tf.nn.relu)\n",
    "\n",
    "    \n",
    "    with tf.name_scope(\"Final_pdm\"):\n",
    "        final_pdm = tf.concat([p1,p2,p3,p4],1,name=\"final_pdm_tensor\")\n",
    "    \n",
    "    with tf.name_scope(\"loss\"):\n",
    "            loss_1 = tf.losses.mean_squared_error(p1,y_1)\n",
    "            loss_2 = tf.losses.mean_squared_error(p2,y_2)\n",
    "            loss_3 = tf.losses.mean_squared_error(p3,y_3)\n",
    "            loss_4 = tf.losses.mean_squared_error(p4,y_4)\n",
    "            \n",
    "            total_loss = loss_1 + loss_2 + loss_3 + loss_4\n",
    "            \n",
    "            loss_1_summary = tf.summary.scalar('loss_1', loss_1)\n",
    "            loss_2_summary = tf.summary.scalar('loss_2', loss_2)\n",
    "            loss_3_summary = tf.summary.scalar('loss_3', loss_3)\n",
    "            loss_4_summary = tf.summary.scalar('loss_4', loss_4)\n",
    "            loss_summary = tf.summary.scalar('loss_summary_total', total_loss)\n",
    "            \n",
    "    with tf.name_scope(\"train\"):\n",
    "        global_step = tf.Variable(0, trainable=False, name='global_step')\n",
    "        \n",
    "        #For momentum optomizer\n",
    "        \n",
    "        #decay_steps = 800\n",
    "        #decay_rate = 1/8\n",
    "        #learning_decay = tf.train.exponential_decay(learning_rate, global_step, decay_steps, decay_rate)\n",
    "        #optimizer = tf.train.MomentumOptimizer(learning_rate=learning_decay, momentum=0.9, use_nesterov=True)\n",
    "        \n",
    "        #For BN\n",
    "        update_ops = tf.get_collection(tf.GraphKeys.UPDATE_OPS)\n",
    "        \n",
    "        optimizer = tf.train.AdamOptimizer(learning_rate=learning_rate)\n",
    "\n",
    "        with tf.control_dependencies(update_ops):\n",
    "            training_op_1 = optimizer.minimize(loss_1, global_step=global_step)\n",
    "            training_op_2 = optimizer.minimize(loss_2, global_step=global_step) \n",
    "            training_op_3 = optimizer.minimize(loss_3, global_step=global_step)\n",
    "            training_op_4 = optimizer.minimize(loss_4, global_step=global_step)\n",
    "            \n",
    "        \n",
    "            \n",
    "#Variables for global initialization\n",
    "saver2 = tf.train.Saver(name=\"Full_Saver\")\n",
    "init = tf.global_variables_initializer()"
   ]
  },
  {
   "cell_type": "code",
   "execution_count": 8,
   "metadata": {},
   "outputs": [
    {
     "name": "stdout",
     "output_type": "stream",
     "text": [
      "INFO:tensorflow:Restoring parameters from D:/AI/models/pnas_net/model.ckpt\n"
     ]
    }
   ],
   "source": [
    "#Initialize all variables and restore the lower layer\n",
    "with tf.Session() as sess:\n",
    "    #Initalizer all variables\n",
    "    init.run()\n",
    "    \n",
    "    #Restore the pretrained variables from Nas-Net\n",
    "    saver.restore(sess, nas_net_model)\n",
    "    \n",
    "    \n",
    "    #Save all of these variables to the new Cell_Net Model\n",
    "    saver2.save(sess, landmark_ml_model)\n",
    "    saver2.save(sess, landmark_ml_model_best)"
   ]
  },
  {
   "cell_type": "code",
   "execution_count": null,
   "metadata": {},
   "outputs": [],
   "source": [
    "#For Exporting Graph\n",
    "filewriter = tf.summary.FileWriter(landmark_ml_logs, tf.get_default_graph())"
   ]
  },
  {
   "cell_type": "markdown",
   "metadata": {},
   "source": [
    "# Train the Network\n",
    "\n",
    "Here we are going to train the network. Accuracy/Loss is recorded\n",
    "Note for this version, a certain amount of the data is seen every training step. \n",
    "set train_size for how many images are trained on in each epoch\n",
    "set batch_size for how many images are trained at once.\n",
    "num_epochs is how many times the network sees that ammount of training data\n"
   ]
  },
  {
   "cell_type": "code",
   "execution_count": 9,
   "metadata": {},
   "outputs": [],
   "source": [
    "# Save the Graph into a file with Filewriter and add summaries for this session\n",
    "#This will be used for all the following\n",
    "model_path = log_dir_build(landmark_ml_logs, \"landmark_ml_v3\")\n",
    "filewriter = tf.summary.FileWriter(model_path, tf.get_default_graph())"
   ]
  },
  {
   "cell_type": "code",
   "execution_count": 10,
   "metadata": {},
   "outputs": [
    {
     "name": "stdout",
     "output_type": "stream",
     "text": [
      "INFO:tensorflow:Restoring parameters from D:/AI/models/landmark_ml/model/landmark_ml_points_v3\n",
      "Loaded model. Training network initially. Logs into: D:/AI/models/landmark_ml/logs/landmark_ml_v3-run-20181128054748/\n",
      "Epoch: 0 Loss: 109414.0\n",
      "Epoch: 1 Loss: 1750.4\n",
      "Epoch: 2 Loss: 1484.83\n",
      "Epoch: 3 Loss: 1658.76\n",
      "Epoch: 4 Loss: 1237.58\n",
      "Epoch: 5 Loss: 1002.5\n",
      "Epoch: 6 Loss: 1237.65\n",
      "Epoch: 7 Loss: 950.532\n",
      "Epoch: 8 Loss: 3658.62\n",
      "Epoch: 9 Loss: 1524.6\n",
      "Epoch: 10 Loss: 994.717\n",
      "Epoch: 11 Loss: 651.401\n",
      "Epoch: 12 Loss: 524.992\n",
      "Epoch: 13 Loss: 1967.33\n",
      "Epoch: 14 Loss: 743.184\n",
      "Epoch: 15 Loss: 465.919\n",
      "Epoch: 16 Loss: 2727.51\n",
      "Epoch: 17 Loss: 1416.16\n",
      "Epoch: 18 Loss: 2204.13\n",
      "Epoch: 19 Loss: 389.41\n",
      "Epoch: 20 Loss: 724.821\n",
      "Epoch: 21 Loss: 1955.15\n",
      "Epoch: 22 Loss: 1008.06\n",
      "Epoch: 23 Loss: 1409.17\n",
      "Epoch: 24 Loss: 3322.94\n",
      "Epoch: 25 Loss: 506.141\n",
      "Epoch: 26 Loss: 325.623\n",
      "Epoch: 27 Loss: 616.222\n",
      "Epoch: 28 Loss: 778.692\n",
      "Epoch: 29 Loss: 563.408\n",
      "Epoch: 30 Loss: 1266.63\n",
      "Epoch: 31 Loss: 1570.17\n",
      "Epoch: 32 Loss: 1234.58\n",
      "Epoch: 33 Loss: 1010.88\n",
      "Epoch: 34 Loss: 657.249\n",
      "Epoch: 35 Loss: 2584.67\n",
      "Epoch: 36 Loss: 399.569\n",
      "Epoch: 37 Loss: 867.51\n",
      "Epoch: 38 Loss: 751.867\n",
      "Epoch: 39 Loss: 264.507\n",
      "Epoch: 40 Loss: 198.874\n",
      "Epoch: 41 Loss: 1742.36\n",
      "Epoch: 42 Loss: 790.234\n",
      "Epoch: 43 Loss: 747.101\n",
      "Epoch: 44 Loss: 605.993\n",
      "Epoch: 45 Loss: 433.765\n",
      "Epoch: 46 Loss: 504.975\n",
      "Epoch: 47 Loss: 328.232\n",
      "Epoch: 48 Loss: 400.578\n",
      "Epoch: 49 Loss: 377.976\n",
      "Epoch: 50 Loss: 1172.79\n",
      "Epoch: 51 Loss: 665.308\n",
      "Epoch: 52 Loss: 1807.08\n",
      "Epoch: 53 Loss: 398.227\n",
      "Epoch: 54 Loss: 1025.98\n",
      "Epoch: 55 Loss: 207.503\n",
      "Epoch: 56 Loss: 326.429\n",
      "Epoch: 57 Loss: 439.473\n",
      "Epoch: 58 Loss: 553.569\n",
      "Epoch: 59 Loss: 557.822\n",
      "Epoch: 60 Loss: 377.38\n",
      "Epoch: 61 Loss: 228.078\n",
      "Epoch: 62 Loss: 299.63\n",
      "Epoch: 63 Loss: 1038.47\n",
      "Epoch: 64 Loss: 395.369\n",
      "Epoch: 65 Loss: 683.17\n",
      "Epoch: 66 Loss: 873.506\n",
      "Epoch: 67 Loss: 202.581\n",
      "Epoch: 68 Loss: 365.502\n",
      "Epoch: 69 Loss: 529.791\n",
      "Epoch: 70 Loss: 783.23\n",
      "Epoch: 71 Loss: 476.98\n",
      "Epoch: 72 Loss: 1162.0\n",
      "Epoch: 73 Loss: 307.254\n",
      "Epoch: 74 Loss: 297.285\n",
      "Epoch: 75 Loss: 3042.78\n",
      "Epoch: 76 Loss: 115.452\n",
      "Epoch: 77 Loss: 704.681\n",
      "Epoch: 78 Loss: 327.716\n",
      "Epoch: 79 Loss: 458.091\n",
      "Epoch: 80 Loss: 207.353\n",
      "Epoch: 81 Loss: 720.914\n",
      "Epoch: 82 Loss: 280.383\n",
      "Epoch: 83 Loss: 277.861\n",
      "Epoch: 84 Loss: 273.526\n",
      "Epoch: 85 Loss: 758.197\n",
      "Epoch: 86 Loss: 220.297\n",
      "Epoch: 87 Loss: 215.779\n",
      "Epoch: 88 Loss: 207.215\n",
      "Epoch: 89 Loss: 231.25\n",
      "Epoch: 90 Loss: 161.581\n",
      "Epoch: 91 Loss: 117.507\n",
      "Epoch: 92 Loss: 1742.18\n",
      "Epoch: 93 Loss: 169.915\n",
      "Epoch: 94 Loss: 1124.66\n",
      "Epoch: 95 Loss: 193.969\n",
      "Epoch: 96 Loss: 223.311\n",
      "Epoch: 97 Loss: 176.882\n",
      "Epoch: 98 Loss: 379.473\n",
      "Epoch: 99 Loss: 255.036\n",
      "Epoch: 100 Loss: 494.195\n",
      "Epoch: 101 Loss: 296.734\n",
      "Epoch: 102 Loss: 223.273\n",
      "Epoch: 103 Loss: 253.315\n",
      "Epoch: 104 Loss: 224.464\n",
      "Epoch: 105 Loss: 195.511\n",
      "Epoch: 106 Loss: 266.63\n",
      "Epoch: 107 Loss: 731.952\n",
      "Epoch: 108 Loss: 217.667\n",
      "Epoch: 109 Loss: 125.968\n",
      "Epoch: 110 Loss: 180.226\n",
      "Epoch: 111 Loss: 343.515\n",
      "Epoch: 112 Loss: 1857.91\n",
      "Epoch: 113 Loss: 207.228\n",
      "Epoch: 114 Loss: 784.633\n",
      "Epoch: 115 Loss: 633.931\n",
      "Epoch: 116 Loss: 329.535\n",
      "Epoch: 117 Loss: 756.447\n",
      "Epoch: 118 Loss: 225.208\n",
      "Epoch: 119 Loss: 56.8766\n",
      "Epoch: 120 Loss: 314.207\n",
      "Epoch: 121 Loss: 174.852\n",
      "Epoch: 122 Loss: 138.798\n",
      "Epoch: 123 Loss: 1108.21\n",
      "Epoch: 124 Loss: 607.96\n",
      "Epoch: 125 Loss: 145.552\n",
      "Epoch: 126 Loss: 159.035\n",
      "Epoch: 127 Loss: 122.67\n",
      "Epoch: 128 Loss: 145.807\n",
      "Epoch: 129 Loss: 236.001\n",
      "Epoch: 130 Loss: 92.2231\n",
      "Epoch: 131 Loss: 219.624\n",
      "Epoch: 132 Loss: 176.585\n",
      "Epoch: 133 Loss: 166.682\n",
      "Epoch: 134 Loss: 102.563\n",
      "Epoch: 135 Loss: 96.5401\n",
      "Epoch: 136 Loss: 163.876\n",
      "Epoch: 137 Loss: 116.802\n",
      "Epoch: 138 Loss: 120.231\n",
      "Epoch: 139 Loss: 205.634\n",
      "Epoch: 140 Loss: 181.426\n",
      "Epoch: 141 Loss: 301.411\n",
      "Epoch: 142 Loss: 165.374\n",
      "Epoch: 143 Loss: 1483.06\n",
      "Epoch: 144 Loss: 212.025\n",
      "Epoch: 145 Loss: 245.542\n",
      "Epoch: 146 Loss: 97.0663\n",
      "Epoch: 147 Loss: 9557.32\n",
      "Epoch: 148 Loss: 106.151\n",
      "Epoch: 149 Loss: 148.933\n",
      "Epoch: 150 Loss: 84.3133\n",
      "Epoch: 151 Loss: 178.452\n",
      "Epoch: 152 Loss: 269.557\n",
      "Epoch: 153 Loss: 155.379\n",
      "Epoch: 154 Loss: 96.5908\n",
      "Epoch: 155 Loss: 82.619\n",
      "Epoch: 156 Loss: 87.4637\n",
      "Epoch: 157 Loss: 482.861\n",
      "Epoch: 158 Loss: 227.886\n",
      "Epoch: 159 Loss: 50.2029\n",
      "Epoch: 160 Loss: 99.3624\n",
      "Epoch: 161 Loss: 106.784\n",
      "Epoch: 162 Loss: 333.734\n",
      "Epoch: 163 Loss: 118.746\n",
      "Epoch: 164 Loss: 182.146\n",
      "Epoch: 165 Loss: 127.403\n",
      "Epoch: 166 Loss: 163.095\n",
      "Epoch: 167 Loss: 99.9346\n",
      "Epoch: 168 Loss: 111.52\n",
      "Epoch: 169 Loss: 76.43\n",
      "Epoch: 170 Loss: 106.493\n",
      "Epoch: 171 Loss: 245.498\n",
      "Epoch: 172 Loss: 295.821\n",
      "Epoch: 173 Loss: 270.247\n",
      "Epoch: 174 Loss: 110.397\n",
      "Epoch: 175 Loss: 146.452\n",
      "Epoch: 176 Loss: 194.929\n",
      "Epoch: 177 Loss: 155.489\n",
      "Epoch: 178 Loss: 248.453\n",
      "Epoch: 179 Loss: 293.382\n",
      "Epoch: 180 Loss: 93.378\n",
      "Epoch: 181 Loss: 193.422\n",
      "Epoch: 182 Loss: 173.387\n",
      "Epoch: 183 Loss: 80.506\n",
      "Epoch: 184 Loss: 119.988\n",
      "Epoch: 185 Loss: 319.644\n",
      "Epoch: 186 Loss: 117.746\n",
      "Epoch: 187 Loss: 654.412\n",
      "Epoch: 188 Loss: 71.2049\n",
      "Epoch: 189 Loss: 90.798\n",
      "Epoch: 190 Loss: 165.449\n",
      "Epoch: 191 Loss: 197.31\n",
      "Epoch: 192 Loss: 209.323\n",
      "Epoch: 193 Loss: 106.641\n",
      "Epoch: 194 Loss: 762.873\n",
      "Epoch: 195 Loss: 313.439\n",
      "Epoch: 196 Loss: 169.16\n",
      "Epoch: 197 Loss: 119.837\n",
      "Epoch: 198 Loss: 46.701\n",
      "Epoch: 199 Loss: 133.383\n",
      "Did 44774 of loss minimized training in 8553.29668712616 seconds.\n",
      "Done!\n"
     ]
    }
   ],
   "source": [
    "#For doing the initial training\n",
    "#Total number of epochs to train\n",
    "epochs = 200\n",
    "steps_between_test_save = 1\n",
    "batch = 30\n",
    "train_size = 1700\n",
    "all_data_steps = np.int(np.floor(train_size/batch))\n",
    "lowest_loss = 10000\n",
    "offset_correction = 37.5\n",
    "\n",
    "#GPU Options\n",
    "config = tf.ConfigProto()\n",
    "config.gpu_options.allocator_type = 'BFC'\n",
    "config.gpu_options.allow_growth = True\n",
    "\n",
    "\n",
    "with tf.Session(config=config) as sess:\n",
    "    start_time = time.time()\n",
    "    #restore saver, build iterator, set the step to the global step\n",
    "    saver2.restore(sess, landmark_ml_model)\n",
    "    \n",
    "    #Set up the global steps\n",
    "    step = 0\n",
    "    print(\"Loaded model. Training network initially. Logs into: \" + model_path)\n",
    "    \n",
    "    sess.run(iterator.initializer, feed_dict={filenames: train_list, batch_size: batch, num_epochs:epochs})\n",
    "    \n",
    "    loss_sum, loss_val = sess.run([loss_summary, total_loss], feed_dict={training:False})\n",
    "    filewriter.add_summary(loss_sum, step)\n",
    "    print(\"Epoch: \" + str(step) + \" Loss: \" + str(loss_val))\n",
    "    \n",
    "    #Iterate through training \n",
    "    while step < epochs:\n",
    "        for i in range(all_data_steps):\n",
    "        \n",
    "            #run Training Op\n",
    "            sess.run([training_op_1,training_op_2,training_op_3,training_op_4])\n",
    "        \n",
    "        #see if we are improving on the test data\n",
    "        #Maybe Test Accuracy\n",
    "        if ((step % steps_between_test_save) == 0 and step != 0) :\n",
    "            \n",
    "            loss_sum, loss_val, loss_s1, loss_s2, loss_s3, loss_s4 = sess.run([loss_summary, total_loss, \n",
    "                                                                               loss_1_summary, loss_2_summary,\n",
    "                                                                               loss_3_summary, loss_4_summary], \n",
    "                                                                              feed_dict={training:False})\n",
    "            \n",
    "            \n",
    "            filewriter.add_summary(loss_s1, step)\n",
    "            filewriter.add_summary(loss_s2, step)\n",
    "            filewriter.add_summary(loss_s3, step)\n",
    "            filewriter.add_summary(loss_s4, step)\n",
    "            filewriter.add_summary(loss_sum, step)\n",
    "            print(\"Epoch: \" + str(step) + \" Loss: \" + str(loss_val))\n",
    "            saver2.save(sess, landmark_ml_model)\n",
    "            \n",
    "            if lowest_loss > loss_val:\n",
    "                lowest_loss = loss_val\n",
    "                saver2.save(sess, landmark_ml_model_best)\n",
    "        step = step + 1\n",
    "            \n",
    "    #Finish the final Model\n",
    "    saver2.save(sess, landmark_ml_model)\n",
    "    end_time = time.time()\n",
    "    total_steps = tf.train.global_step(sess, global_step)\n",
    "    final_time = end_time - start_time\n",
    "    print(\"Did \" + str(total_steps) + \" of loss minimized training in \" + str(final_time) + \" seconds.\")\n",
    "    print(\"Done!\")"
   ]
  },
  {
   "cell_type": "markdown",
   "metadata": {},
   "source": [
    "# Do metric testing\n",
    "\n",
    "Here we will run through all of the training data and relate accuracy with confidence"
   ]
  },
  {
   "cell_type": "code",
   "execution_count": null,
   "metadata": {},
   "outputs": [],
   "source": [
    "out_of_set_net_model = 'D:/AI/models/out_of_set_net/model/out_of_set_net_best'\n",
    "batch_size = 1\n",
    "num_epochs = 1500\n",
    "\n",
    "#Set up frame\n",
    "column_list = ['Item_Number','Category','Category_Index','Category_Strength', 'Max_Confidence_Index_Value','Calculated_Confidence',\n",
    "                                       'Correct_Confidence','Confidence_Score']\n",
    "full_data_frame = pd.DataFrame(columns=column_list)\n",
    "\n",
    "\n",
    "\n",
    "with tf.Session() as sess:\n",
    "    \n",
    "    #build the iterator with all the training data\n",
    "    iterator_test_run = build_iterator(False, val_list, 1, num_epochs=1500, num_parallel_calls=12)\n",
    "    next_test_get = iterator_test_run.get_next()\n",
    "    \n",
    "    #Get Saver Data\n",
    "    new_saver = tf.train.import_meta_graph(out_of_set_net_model + '.meta')\n",
    "    new_saver.restore(sess, out_of_set_net_model)\n",
    "    \n",
    "    #Set up environment for test\n",
    "    training = tf.get_default_graph().get_tensor_by_name(\"training:0\")\n",
    "    \n",
    "    \n",
    "    #Loop Through Test Data\n",
    "    \n",
    "    for i in range(num_epochs):\n",
    "        #get data\n",
    "        X_val, y_val = next_test_get\n",
    "        X_val, y_val = get_values(sess, X_val, y_val)\n",
    "\n",
    "\n",
    "        soft_max_pna = tf.get_default_graph().get_tensor_by_name(\"final_layer/predictions:0\")\n",
    "        soft_max_confidence = tf.get_default_graph().get_tensor_by_name(\"Out_Of_Set_Classifier/Final_Layer/final_soft_max:0\")\n",
    "        X = tf.get_default_graph().get_tensor_by_name(\"input:0\")\n",
    "\n",
    "        y_category = soft_max_pna.eval(feed_dict={X: X_val, training: False})\n",
    "        y_confidence = soft_max_confidence.eval(feed_dict={X: X_val, training: False})\n",
    "        y_confidence_correct = y_val[[0]]\n",
    "\n",
    "        #Append Data Frame with Requried Information\n",
    "        cat_max = np.argmax(y_category)\n",
    "        con_max = np.argmax(y_confidence)\n",
    "\n",
    "        case_number = i\n",
    "        item_name = image_net_dict_file.get(cat_max)\n",
    "        y_category_strength = y_category[[0],[cat_max]][0]\n",
    "        y_confidence_strength = y_confidence[[0],[con_max]][0]\n",
    "        y_confidence_correct = y_val[[0]][0]\n",
    "        confidence_score = y_confidence[[0],[0]][0]\n",
    "\n",
    "        to_add = pd.DataFrame([[case_number,item_name,cat_max,y_category_strength,con_max,y_confidence_strength,\n",
    "                            y_confidence_correct,confidence_score]], columns = column_list)\n",
    "        full_data_frame = full_data_frame.append(to_add)\n"
   ]
  },
  {
   "cell_type": "code",
   "execution_count": null,
   "metadata": {},
   "outputs": [],
   "source": [
    "#Print out the dataframe\n",
    "\n",
    "full_data_frame.to_csv('Out_Of_Set_Test_Run_1.csv', sep=',')"
   ]
  },
  {
   "cell_type": "markdown",
   "metadata": {},
   "source": [
    "# Additional Testing\n",
    "\n",
    "Here are some helpful scripts for doing additional testing"
   ]
  },
  {
   "cell_type": "code",
   "execution_count": 11,
   "metadata": {},
   "outputs": [],
   "source": [
    "#Location and models to use for testing\n",
    "\n",
    "nas_net_model = 'D:/AI/models/pnas_net/model.ckpt'\n",
    "landmark_ml_logs = 'D:/AI/models/landmark_ml/logs'\n",
    "landmark_ml_model = 'D:/AI/models/landmark_ml/model/landmark_ml_points_v3'\n",
    "landmark_ml_model_best = 'D:/AI/models/landmark_ml/model/landmark_ml_points_best_v3'"
   ]
  },
  {
   "cell_type": "code",
   "execution_count": null,
   "metadata": {},
   "outputs": [],
   "source": [
    "test_image = PI.open('D:/Machine_Learning/Datasets/corpus_learning/test_image/final_brain.jpg')\n",
    "test_image = np.array(test_image)\n",
    "test_image = test_image.reshape(1,331,331,3)"
   ]
  },
  {
   "cell_type": "code",
   "execution_count": 24,
   "metadata": {},
   "outputs": [
    {
     "name": "stdout",
     "output_type": "stream",
     "text": [
      "INFO:tensorflow:Restoring parameters from D:/AI/models/landmark_ml/model/landmark_ml_points_best_v3\n"
     ]
    },
    {
     "data": {
      "text/plain": [
       "119.10876"
      ]
     },
     "execution_count": 24,
     "metadata": {},
     "output_type": "execute_result"
    }
   ],
   "source": [
    "#Test a single test image\n",
    "offset_correction = 0\n",
    "\n",
    "with tf.Session() as sess:\n",
    "    #Restore File\n",
    "    saver2.restore(sess, landmark_ml_model_best)\n",
    "    \n",
    "    #Pull sample from validation set\n",
    "    sess.run(iterator.initializer, feed_dict={filenames: val_list, batch_size: 1, num_epochs:1})\n",
    "    \n",
    "    #\n",
    "    item,Y_estimate,loss_val = sess.run([next_data, final_pdm, total_loss], \n",
    "                                                                  feed_dict={training:False})\n",
    "loss_val"
   ]
  },
  {
   "cell_type": "code",
   "execution_count": 25,
   "metadata": {},
   "outputs": [],
   "source": [
    "X_val = item[0]\n",
    "Y_1 = item[1]\n",
    "Y_2 = item[2]\n",
    "Y_3 = item[3]\n",
    "Y_4 = item[4]\n",
    "file = item[5]"
   ]
  },
  {
   "cell_type": "code",
   "execution_count": 26,
   "metadata": {},
   "outputs": [
    {
     "data": {
      "text/plain": [
       "array([ 169.36372375,  182.75842285,  195.97943115,  159.99433899,\n",
       "        164.82369995,  188.89619446,  126.10115051,  178.85621643])"
      ]
     },
     "execution_count": 26,
     "metadata": {},
     "output_type": "execute_result"
    }
   ],
   "source": [
    "Y_val = np.array([])\n",
    "Y_val = np.append(Y_val,Y_1)\n",
    "Y_val = np.append(Y_val,Y_2)\n",
    "Y_val = np.append(Y_val,Y_3)\n",
    "Y_val = np.append(Y_val,Y_4)\n",
    "Y_val"
   ]
  },
  {
   "cell_type": "code",
   "execution_count": 27,
   "metadata": {},
   "outputs": [
    {
     "data": {
      "text/plain": [
       "array([ 170.7640686 ,  187.6714325 ,  196.96383667,  169.43797302,\n",
       "        164.90943909,  195.27096558,  135.0635376 ,  179.85531616], dtype=float32)"
      ]
     },
     "execution_count": 27,
     "metadata": {},
     "output_type": "execute_result"
    }
   ],
   "source": [
    "#display an example and label\n",
    "\n",
    "x_val = X_val.reshape(331,331,3)\n",
    "y_val = Y_val\n",
    "x_array = y_val[0:8:2] \n",
    "y_array = y_val[1:8:2]\n",
    "\n",
    "y_est = Y_estimate[0]\n",
    "x_guess = y_est[0:8:2] \n",
    "y_guess = y_est[1:8:2]\n",
    "y_est"
   ]
  },
  {
   "cell_type": "code",
   "execution_count": 28,
   "metadata": {},
   "outputs": [
    {
     "data": {
      "image/png": "[encoded data removed]",
      "text/plain": [
       "<Figure size 432x288 with 1 Axes>"
      ]
     },
     "metadata": {},
     "output_type": "display_data"
    }
   ],
   "source": [
    "#Correct Answer\n",
    "from matplotlib import pyplot as plt\n",
    "plt.imshow(x_val, interpolation='nearest')\n",
    "plt.scatter(x=x_array, y=y_array, c='r', s=40)\n",
    "plt.axis('on')\n",
    "plt.show()"
   ]
  },
  {
   "cell_type": "code",
   "execution_count": 29,
   "metadata": {},
   "outputs": [
    {
     "data": {
      "image/png": "[encoded data removed]",
      "text/plain": [
       "<Figure size 432x288 with 1 Axes>"
      ]
     },
     "metadata": {},
     "output_type": "display_data"
    }
   ],
   "source": [
    "#Guess\n",
    "from matplotlib import pyplot as plt\n",
    "plt.imshow(x_val, interpolation='nearest')\n",
    "plt.scatter(x=x_guess, y=y_guess, c='r', s=40)\n",
    "plt.axis('on')\n",
    "plt.show()"
   ]
  },
  {
   "cell_type": "code",
   "execution_count": null,
   "metadata": {},
   "outputs": [],
   "source": [
    "loss_val"
   ]
  },
  {
   "cell_type": "code",
   "execution_count": null,
   "metadata": {},
   "outputs": [],
   "source": [
    "with tf.Session() as sess:\n",
    "    #restore graph from meta and restore variables\n",
    "    new_saver = tf.train.import_meta_graph(out_of_set_net_best + '.meta')\n",
    "    new_saver.restore(sess, out_of_set_net_best)\n",
    "    soft = tf.get_default_graph().get_tensor_by_name(\"Out_Of_Set_Classifier/Final_Layer/final_soft_max:0\")\n",
    "    input_tensor = tf.get_default_graph().get_tensor_by_name(\"input:0\")\n",
    "    val = soft.eval(feed_dict={input_tensor: cat, training: False})"
   ]
  },
  {
   "cell_type": "code",
   "execution_count": null,
   "metadata": {},
   "outputs": [],
   "source": [
    "current_step\n"
   ]
  },
  {
   "cell_type": "code",
   "execution_count": null,
   "metadata": {},
   "outputs": [],
   "source": [
    "image_net_dict_file"
   ]
  },
  {
   "cell_type": "code",
   "execution_count": null,
   "metadata": {},
   "outputs": [],
   "source": [
    "frame"
   ]
  },
  {
   "cell_type": "code",
   "execution_count": null,
   "metadata": {},
   "outputs": [],
   "source": [
    "list = np.reshape(last_layers, (num_epochs,batch_size,4320))"
   ]
  },
  {
   "cell_type": "code",
   "execution_count": null,
   "metadata": {},
   "outputs": [],
   "source": [
    "list"
   ]
  },
  {
   "cell_type": "code",
   "execution_count": null,
   "metadata": {},
   "outputs": [],
   "source": [
    "with tf.Session() as sess:\n",
    "    #restore saver, build iterator, set the step to the global step\n",
    "    saver2.restore(sess, out_of_set_net_model)\n",
    "    \n",
    "    #Set up the global steps\n",
    "    total_steps = tf.train.global_step(sess, global_step)\n",
    "    \n",
    "    print(\"Did \" + str(total_steps) + \" of loss minimized training in \" + str(final_time) + \" time.\")\n",
    "    print(\"Done!\")"
   ]
  },
  {
   "cell_type": "code",
   "execution_count": null,
   "metadata": {},
   "outputs": [],
   "source": [
    "final_time"
   ]
  },
  {
   "cell_type": "code",
   "execution_count": null,
   "metadata": {},
   "outputs": [],
   "source": []
  }
 ],
 "metadata": {
  "kernelspec": {
   "display_name": "Python 3",
   "language": "python",
   "name": "python3"
  },
  "language_info": {
   "codemirror_mode": {
    "name": "ipython",
    "version": 3
   },
   "file_extension": ".py",
   "mimetype": "text/x-python",
   "name": "python",
   "nbconvert_exporter": "python",
   "pygments_lexer": "ipython3",
   "version": "3.6.3"
  }
 },
 "nbformat": 4,
 "nbformat_minor": 2
}
