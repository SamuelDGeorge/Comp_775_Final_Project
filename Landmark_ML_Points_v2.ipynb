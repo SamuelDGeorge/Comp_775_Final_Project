{
 "cells": [
  {
   "cell_type": "code",
   "execution_count": 1,
   "metadata": {},
   "outputs": [
    {
     "name": "stderr",
     "output_type": "stream",
     "text": [
      "Using TensorFlow backend.\n"
     ]
    }
   ],
   "source": [
    "#All neccesary classes for project\n",
    "\n",
    "#general\n",
    "import seaborn as sns\n",
    "import scipy.stats as ss\n",
    "import pandas as pd\n",
    "import numpy as np\n",
    "import os\n",
    "import pickle\n",
    "import time\n",
    "import sys\n",
    "\n",
    "#for preprocessing\n",
    "from sklearn.model_selection import StratifiedShuffleSplit\n",
    "from sklearn.pipeline import Pipeline\n",
    "from sklearn.preprocessing import StandardScaler\n",
    "from sklearn.preprocessing import Imputer\n",
    "from sklearn.pipeline import FeatureUnion\n",
    "from sklearn.decomposition import PCA\n",
    "from sklearn.cluster import KMeans\n",
    "import tensorflow as tf\n",
    "\n",
    "#for machine learning\n",
    "from sklearn.ensemble import RandomForestClassifier\n",
    "from sklearn.ensemble import RandomForestRegressor\n",
    "from sklearn.metrics import mean_squared_error\n",
    "from sklearn.model_selection import cross_val_score\n",
    "from sklearn.model_selection import GridSearchCV\n",
    "from sklearn.model_selection import RandomizedSearchCV\n",
    "from scipy.stats import expon, reciprocal\n",
    "from sklearn.svm import SVR\n",
    "from sklearn.tree import DecisionTreeClassifier\n",
    "from sklearn.tree import export_graphviz\n",
    "\n",
    "#for evaluation\n",
    "from sklearn.metrics import confusion_matrix\n",
    "\n",
    "from sklearn.metrics import f1_score\n",
    "\n",
    "#for utility packages\n",
    "from Utilities.utilities import import_data\n",
    "from Utilities.utilities import DataFrameSelector\n",
    "from Utilities.utilities import CategoricalEncoder\n",
    "from Utilities.utilities import display_scores\n",
    "from Utilities.utilities import pipeline_transform\n",
    "from Utilities.utilities import reset_graph\n",
    "from Utilities.models import DNN_Model\n",
    "from Utilities.models import cross_val_score_dnn\n",
    "from functools import partial\n",
    "\n",
    "#image manipulation\n",
    "from PIL import Image as PI\n",
    "from resizeimage import resizeimage\n",
    "import matplotlib.image as mpimg\n",
    "import matplotlib.pyplot as plt\n",
    "from keras.utils.data_utils import get_file\n",
    "import imagenet_helper_files.vgg_preprocessing\n",
    "import tensorflow.contrib.slim as slim\n",
    "from tensorflow.contrib.slim.nets import resnet_v2\n",
    "import imagenet_helper_files.pnasnet as nas\n",
    "\n",
    "#Import Custom Functions\n",
    "from Utilities.model_builder import get_image\n",
    "from Utilities.model_builder import get_file_lists\n",
    "from Utilities.model_builder import parse_record\n",
    "from Utilities.model_builder import get_batch\n",
    "from Utilities.model_builder import build_iterator\n",
    "from Utilities.bounded_model_builder import build_bounded_iterator\n",
    "from Utilities.bounded_model_builder import build_bounded_iterator_points\n",
    "from Utilities.model_builder import get_values_imagenet\n",
    "from Utilities.model_builder import get_values_bounded\n",
    "from Utilities.model_builder import get_values_bounded_points\n",
    "from Utilities.models import log_dir_build\n",
    "from Utilities.utilities import generate_image\n",
    "from Utilities.utilities import generate_image_array\n",
    "from Utilities.cell_net_predictor import Binary_Categorical_Predictor\n",
    "from Utilities.build_image_data_notebook import process_dataset\n"
   ]
  },
  {
   "cell_type": "markdown",
   "metadata": {},
   "source": [
    "# Load the Data\n",
    "\n",
    "Here we will load the training and validation data in order to do training"
   ]
  },
  {
   "cell_type": "code",
   "execution_count": 5,
   "metadata": {},
   "outputs": [],
   "source": [
    "#Build tf_records\n",
    "#Set Variables\n",
    "validation_directory = \"D:/Machine_Learning/Datasets/corpus_learning/validation\"\n",
    "train_directory = \"D:/Machine_Learning/Datasets/corpus_learning/train\"\n",
    "output_directory = \"D:/Machine_Learning/Datasets/corpus_learning/tf_records_2\""
   ]
  },
  {
   "cell_type": "code",
   "execution_count": 6,
   "metadata": {},
   "outputs": [
    {
     "data": {
      "text/plain": [
       "['D:/Machine_Learning/Datasets/corpus_learning/tf_records_2\\\\train-00000-of-00002',\n",
       " 'D:/Machine_Learning/Datasets/corpus_learning/tf_records_2\\\\train-00001-of-00002']"
      ]
     },
     "execution_count": 6,
     "metadata": {},
     "output_type": "execute_result"
    }
   ],
   "source": [
    "#Import TFRecords for both Training and Testing of the Dat\n",
    "#Use the build_image_data.py to create these sets from your data\n",
    "\n",
    "train_list, val_list = get_file_lists(output_directory)\n",
    "train_list"
   ]
  },
  {
   "cell_type": "code",
   "execution_count": null,
   "metadata": {},
   "outputs": [],
   "source": [
    "#Test pulling a piece of data out of the set to ensure that records were created properly\n",
    "with tf.Session() as sess:\n",
    "    #saver2.restore(sess, landmark_ml_model)\n",
    "    sess.run(iterator.initializer, feed_dict={filenames: val_list, batch_size: 1, num_epochs:1})\n",
    "    X_val, y_1,y_2,y_3,y_4, file = next_data\n",
    "    X_val, Y_1,Y_2,Y_3,Y_4, name = get_values_bounded_points(sess, X_val, y_1,y_2,y_3,y_4,file, 0)\n",
    "    #means = sess.run(final_pool)\n",
    "  "
   ]
  },
  {
   "cell_type": "code",
   "execution_count": null,
   "metadata": {},
   "outputs": [],
   "source": [
    "Y_val = np.array([])\n",
    "Y_val = np.append(Y_val,Y_1)\n",
    "Y_val = np.append(Y_val,Y_2)\n",
    "Y_val = np.append(Y_val,Y_3)\n",
    "Y_val = np.append(Y_val,Y_4)\n",
    "Y_val"
   ]
  },
  {
   "cell_type": "code",
   "execution_count": null,
   "metadata": {},
   "outputs": [],
   "source": [
    "#display an example and label\n",
    "\n",
    "x_val = X_val.reshape(331,331,3)\n",
    "y_val = Y_val\n",
    "x_array = y_val[0:8:2] \n",
    "y_array = y_val[1:8:2]\n",
    "\n"
   ]
  },
  {
   "cell_type": "code",
   "execution_count": null,
   "metadata": {},
   "outputs": [],
   "source": [
    "from matplotlib import pyplot as plt\n",
    "plt.imshow(x_val, interpolation='nearest')\n",
    "plt.scatter(x=x_array, y=y_array, c='r', s=40)\n",
    "plt.axis('on')\n",
    "plt.show()\n",
    "y_val"
   ]
  },
  {
   "cell_type": "code",
   "execution_count": null,
   "metadata": {},
   "outputs": [],
   "source": [
    "name\n"
   ]
  },
  {
   "cell_type": "markdown",
   "metadata": {},
   "source": [
    "# Build the Neural Network on top of Large Nas-Net\n",
    "\n",
    "Here we will build the Nas-Net and then stack our own network on top"
   ]
  },
  {
   "cell_type": "code",
   "execution_count": 2,
   "metadata": {},
   "outputs": [],
   "source": [
    "\n",
    "#import res_net model\n",
    "\n",
    "# Model Location\n",
    "res_net_model = 'D:/AI/models/res_net/v2_50/resnet_v2_50.ckpt'\n",
    "landmark_ml_logs = 'D:/AI/models/landmark_ml/logs'\n",
    "landmark_ml_model = 'D:/AI/models/landmark_ml/model/landmark_ml_points_v3'\n",
    "landmark_ml_model_best = 'D:/AI/models/landmark_ml/model/landmark_ml_points_best_v3'\n"
   ]
  },
  {
   "cell_type": "code",
   "execution_count": 3,
   "metadata": {},
   "outputs": [],
   "source": [
    "#Reset the graph \n",
    "reset_graph()\n",
    "\n",
    "#Set constants for Neural Network\n",
    "dropout_rate = 0.01\n",
    "learning_rate = 1\n",
    "#n_hidden1 = 2000\n",
    "n_hidden2 = 1000\n",
    "n_hidden3 = 500\n",
    "n_hidden4 = 100\n",
    "n_hidden5 = 50\n",
    "n_final_layer = 2\n",
    "\n",
    "\n",
    "\n",
    "\"\"\"\n",
    "#Placeholder for input data\n",
    "X = tf.placeholder(tf.float32, shape=[None, 331, 331, 3], name=\"input\")\n",
    "y = tf.placeholder(tf.float32, shape=[None,8], name=\"bounding_box\")\n",
    "\"\"\"\n",
    "\n",
    "filenames = tf.placeholder(tf.string, shape=[None],name=\"train_records\")\n",
    "batch_size = tf.placeholder(tf.int64, shape=[], name= \"Batch_Size\")\n",
    "num_epochs = tf.placeholder(tf.int64, shape=[], name= \"Num_epochs\")\n",
    "training = tf.placeholder_with_default(True, shape=(), name = 'training')\n",
    "\n",
    "\n",
    "iterator = build_bounded_iterator_points(True, filenames, batch_size, num_epochs=num_epochs, num_parallel_calls=8, num_points = 8)\n",
    "next_data = iterator.get_next()\n",
    "X,y_1,y_2,y_3,y_4,file = next_data\n",
    "\n",
    "\n",
    "#Define initalizer and batch normalization layers\n",
    "bn_batch_norm_layer = partial(tf.layers.batch_normalization, training=training, momentum=0.9)\n",
    "he_init = tf.contrib.layers.variance_scaling_initializer()\n",
    "\n",
    "\n",
    "#Import the Res_Net and build it\n",
    "with slim.arg_scope(resnet_v2.resnet_arg_scope()):\n",
    "    net, end_points = resnet_v2.resnet_v2_50(X, num_classes=1001, is_training=False)\n",
    "    \n",
    "    saver = tf.train.Saver(name=\"Original_Saver\")\n",
    "    \n",
    "    last_conv = tf.get_default_graph().get_tensor_by_name(\"resnet_v2_50/logits/Conv2D:0\")\n",
    "    final_layer = tf.layers.flatten(last_conv)\n",
    "\n",
    "\n",
    "with tf.name_scope(\"Landmark_ML\"):\n",
    "    #Use a stop layer to freeze all the layers beneath in Nas-Net\n",
    "    \n",
    "    with tf.name_scope(\"Isolate_Image_Features\"):\n",
    "        #get the output of the last cell layer\n",
    "        #stop_layer = tf.stop_gradient(final_layer)\n",
    "        \n",
    "        mean_pool = final_layer\n",
    "        to_add = tf.constant([331,331], dtype=tf.float32)\n",
    "        to_add_expanded = tf.expand_dims(to_add,0)\n",
    "        concat_value = tf.tile(to_add_expanded, [tf.shape(mean_pool)[0], 1])\n",
    "        \n",
    "        \n",
    "        final_pool = tf.concat([mean_pool, concat_value],1,name=\"Add_Size\" )\n",
    "        \n",
    "    \n",
    "    \"\"\"\n",
    "    with tf.name_scope(\"Hidden_Layer_1\"):\n",
    "        hidden1 = tf.layers.dense(mean_pool, n_hidden1, name=\"hidden1\", kernel_initializer=he_init)\n",
    "        #hidden1 = tf.layers.dense(last_feature_node, n_hidden1, name=\"hidden1\", kernel_initializer=he_init)\n",
    "        hidden1_drop = tf.layers.dropout(hidden1, dropout_rate, training=training)\n",
    "        bn1 = bn_batch_norm_layer(hidden1_drop)\n",
    "        bn1_act = tf.nn.relu(bn1)\n",
    "    \"\"\"\n",
    "    \n",
    "    with tf.name_scope(\"Hidden_Layer_2\"):\n",
    "        hidden2 = tf.layers.dense(final_pool, n_hidden2, name=\"hidden2\", kernel_initializer=he_init)\n",
    "        hidden2_drop = tf.layers.dropout(hidden2, dropout_rate, training=training)\n",
    "        bn2 = bn_batch_norm_layer(hidden2_drop)\n",
    "        bn2_act = tf.nn.relu(bn2)\n",
    "\n",
    "    \n",
    "    with tf.name_scope(\"Hidden_Layer_3\"):\n",
    "        hidden3 = tf.layers.dense(bn2_act, n_hidden3, name=\"hidden3\", kernel_initializer=he_init)\n",
    "        hidden3_drop = tf.layers.dropout(hidden3, dropout_rate, training=training)\n",
    "        bn3 = bn_batch_norm_layer(hidden3_drop)\n",
    "        bn3_act = tf.nn.relu(bn3) \n",
    "         \n",
    "    with tf.name_scope(\"Hidden_Layer_4\"):\n",
    "        hidden4 = tf.layers.dense(bn3_act, n_hidden4, name=\"hidden4\", kernel_initializer=he_init)\n",
    "        hidden4_drop = tf.layers.dropout(hidden4, dropout_rate, training=training)\n",
    "        bn4 = bn_batch_norm_layer(hidden4_drop)\n",
    "        bn4_act = tf.nn.relu(bn4) \n",
    "\n",
    "    with tf.name_scope(\"Point_1_Estimator\"):\n",
    "        with tf.name_scope(\"Hidden_Layer_5_1\"):\n",
    "            hidden5_1 = tf.layers.dense(bn4_act, n_hidden5, name=\"hidden5_1\", kernel_initializer=he_init)\n",
    "            hidden5_drop_1 = tf.layers.dropout(hidden5_1, dropout_rate, training=training)\n",
    "            bn5_1 = bn_batch_norm_layer(hidden5_drop_1)\n",
    "            bn5_act_1 = tf.nn.relu(bn5_1) \n",
    "\n",
    "\n",
    "        with tf.name_scope(\"P1\"):\n",
    "            p1 = tf.layers.dense(bn5_act_1, n_final_layer, name=\"outputs_1\", activation=tf.nn.relu)\n",
    "        \n",
    "    with tf.name_scope(\"Point_2_Estimator\"):    \n",
    "        with tf.name_scope(\"Hidden_Layer_5_2\"):\n",
    "            hidden5_2 = tf.layers.dense(bn4_act, n_hidden5, name=\"hidden5_2\", kernel_initializer=he_init)\n",
    "            hidden5_drop_2 = tf.layers.dropout(hidden5_2, dropout_rate, training=training)\n",
    "            bn5_2 = bn_batch_norm_layer(hidden5_drop_2)\n",
    "            bn5_act_2 = tf.nn.relu(bn5_2) \n",
    "\n",
    "\n",
    "        with tf.name_scope(\"P2\"):\n",
    "            p2 = tf.layers.dense(bn5_act_2, n_final_layer, name=\"outputs_2\", activation=tf.nn.relu)\n",
    "\n",
    "    with tf.name_scope(\"Point_3_Estimator\"):            \n",
    "        with tf.name_scope(\"Hidden_Layer_5_3\"):\n",
    "            hidden5_3 = tf.layers.dense(bn4_act, n_hidden5, name=\"hidden5_3\", kernel_initializer=he_init)\n",
    "            hidden5_drop_3 = tf.layers.dropout(hidden5_3, dropout_rate, training=training)\n",
    "            bn5_3 = bn_batch_norm_layer(hidden5_drop_3)\n",
    "            bn5_act_3 = tf.nn.relu(bn5_3) \n",
    "\n",
    "        with tf.name_scope(\"P3\"):\n",
    "            p3 = tf.layers.dense(bn5_act_3, n_final_layer, name=\"outputs_3\", activation=tf.nn.relu)\n",
    "\n",
    "    with tf.name_scope(\"Point_4_Estimator\"):\n",
    "        with tf.name_scope(\"Hidden_Layer_5_4\"):\n",
    "            hidden5_4 = tf.layers.dense(bn4_act, n_hidden5, name=\"hidden5_4\", kernel_initializer=he_init)\n",
    "            hidden5_drop_4 = tf.layers.dropout(hidden5_4, dropout_rate, training=training)\n",
    "            bn5_4 = bn_batch_norm_layer(hidden5_drop_4)\n",
    "            bn5_act_4 = tf.nn.relu(bn5_4) \n",
    "\n",
    "        with tf.name_scope(\"P4\"):\n",
    "            p4 = tf.layers.dense(bn5_act_4, n_final_layer, name=\"outputs_4\", activation=tf.nn.relu)\n",
    "\n",
    "    \n",
    "    with tf.name_scope(\"Final_pdm\"):\n",
    "        final_pdm = tf.concat([p1,p2,p3,p4],1,name=\"final_pdm_tensor\")\n",
    "    \n",
    "    with tf.name_scope(\"loss\"):\n",
    "            loss_1 = tf.norm(p1-y_1, ord='euclidean')\n",
    "            loss_2 = tf.norm(p2-y_2, ord='euclidean')\n",
    "            loss_3 = tf.norm(p3-y_3, ord='euclidean')\n",
    "            loss_4 = tf.norm(p4-y_4, ord='euclidean')\n",
    "            \n",
    "            total_loss = loss_1 + loss_2 + loss_3 + loss_4\n",
    "            \n",
    "            loss_1_summary = tf.summary.scalar('loss_1', loss_1)\n",
    "            loss_2_summary = tf.summary.scalar('loss_2', loss_2)\n",
    "            loss_3_summary = tf.summary.scalar('loss_3', loss_3)\n",
    "            loss_4_summary = tf.summary.scalar('loss_4', loss_4)\n",
    "            loss_summary = tf.summary.scalar('loss_summary_total', total_loss)\n",
    "            \n",
    "    with tf.name_scope(\"train\"):\n",
    "        global_step = tf.Variable(0, trainable=False, name='global_step')\n",
    "        \n",
    "        #For momentum optomizer\n",
    "        \n",
    "        #decay_steps = 800\n",
    "        #decay_rate = 1/8\n",
    "        #learning_decay = tf.train.exponential_decay(learning_rate, global_step, decay_steps, decay_rate)\n",
    "        #optimizer = tf.train.MomentumOptimizer(learning_rate=learning_decay, momentum=0.9, use_nesterov=True)\n",
    "        \n",
    "        #For BN\n",
    "        update_ops = tf.get_collection(tf.GraphKeys.UPDATE_OPS)\n",
    "        \n",
    "        optimizer = tf.train.AdamOptimizer(learning_rate=learning_rate)\n",
    "\n",
    "        with tf.control_dependencies(update_ops):\n",
    "            training_op_1 = optimizer.minimize(loss_1, global_step=global_step)\n",
    "            training_op_2 = optimizer.minimize(loss_2, global_step=global_step) \n",
    "            training_op_3 = optimizer.minimize(loss_3, global_step=global_step)\n",
    "            training_op_4 = optimizer.minimize(loss_4, global_step=global_step)\n",
    "            \n",
    "        \n",
    "            \n",
    "#Variables for global initialization\n",
    "saver2 = tf.train.Saver(name=\"Full_Saver\")\n",
    "init = tf.global_variables_initializer()"
   ]
  },
  {
   "cell_type": "code",
   "execution_count": null,
   "metadata": {},
   "outputs": [],
   "source": [
    "#Initialize all variables and restore the lower layer\n",
    "with tf.Session() as sess:\n",
    "    #Initalizer all variables\n",
    "    init.run()\n",
    "    \n",
    "    #Restore the pretrained variables from Nas-Net\n",
    "    saver.restore(sess, res_net_model)\n",
    "    \n",
    "    \n",
    "    #Save all of these variables to the new Cell_Net Model\n",
    "    saver2.save(sess, landmark_ml_model)\n",
    "    saver2.save(sess, landmark_ml_model_best)"
   ]
  },
  {
   "cell_type": "code",
   "execution_count": null,
   "metadata": {},
   "outputs": [],
   "source": [
    "#For Exporting Graph\n",
    "filewriter = tf.summary.FileWriter(landmark_ml_logs, tf.get_default_graph())"
   ]
  },
  {
   "cell_type": "markdown",
   "metadata": {},
   "source": [
    "# Train the Network\n",
    "\n",
    "Here we are going to train the network. Accuracy/Loss is recorded\n",
    "Note for this version, a certain amount of the data is seen every training step. \n",
    "set train_size for how many images are trained on in each epoch\n",
    "set batch_size for how many images are trained at once.\n",
    "num_epochs is how many times the network sees that ammount of training data\n"
   ]
  },
  {
   "cell_type": "code",
   "execution_count": null,
   "metadata": {},
   "outputs": [],
   "source": [
    "# Save the Graph into a file with Filewriter and add summaries for this session\n",
    "#This will be used for all the following\n",
    "model_path = log_dir_build(landmark_ml_logs, \"landmark_ml_points_v3\")\n",
    "filewriter = tf.summary.FileWriter(model_path, tf.get_default_graph())"
   ]
  },
  {
   "cell_type": "code",
   "execution_count": null,
   "metadata": {},
   "outputs": [],
   "source": [
    "#For doing the initial training\n",
    "#Total number of epochs to train\n",
    "epochs = 200\n",
    "steps_between_test_save = 1\n",
    "batch = 30\n",
    "train_size = 1700\n",
    "all_data_steps = np.int(np.floor(train_size/batch))\n",
    "lowest_loss = 10000\n",
    "offset_correction = 37.5\n",
    "\n",
    "#GPU Options\n",
    "config = tf.ConfigProto()\n",
    "config.gpu_options.allocator_type = 'BFC'\n",
    "config.gpu_options.allow_growth = True\n",
    "\n",
    "\n",
    "with tf.Session(config=config) as sess:\n",
    "    start_time = time.time()\n",
    "    #restore saver, build iterator, set the step to the global step\n",
    "    saver2.restore(sess, landmark_ml_model)\n",
    "    \n",
    "    #Set up the global steps\n",
    "    step = 0\n",
    "    print(\"Loaded model. Training network initially. Logs into: \" + model_path)\n",
    "    \n",
    "    sess.run(iterator.initializer, feed_dict={filenames: train_list, batch_size: batch, num_epochs:epochs})\n",
    "    \n",
    "    loss_sum, loss_val = sess.run([loss_summary, total_loss], feed_dict={training:False})\n",
    "    filewriter.add_summary(loss_sum, step)\n",
    "    print(\"Epoch: \" + str(step) + \" Loss: \" + str(loss_val))\n",
    "    \n",
    "    #Iterate through training \n",
    "    while step < epochs:\n",
    "        for i in range(all_data_steps):\n",
    "        \n",
    "            #run Training Op\n",
    "            sess.run([training_op_1,training_op_2,training_op_3,training_op_4])\n",
    "        \n",
    "        #see if we are improving on the test data\n",
    "        #Maybe Test Accuracy\n",
    "        if ((step % steps_between_test_save) == 0 and step != 0) :\n",
    "            \n",
    "            loss_sum, loss_val, loss_s1, loss_s2, loss_s3, loss_s4 = sess.run([loss_summary, total_loss, \n",
    "                                                                               loss_1_summary, loss_2_summary,\n",
    "                                                                               loss_3_summary, loss_4_summary], \n",
    "                                                                              feed_dict={training:False})\n",
    "            \n",
    "            \n",
    "            filewriter.add_summary(loss_s1, step)\n",
    "            filewriter.add_summary(loss_s2, step)\n",
    "            filewriter.add_summary(loss_s3, step)\n",
    "            filewriter.add_summary(loss_s4, step)\n",
    "            filewriter.add_summary(loss_sum, step)\n",
    "            print(\"Epoch: \" + str(step) + \" Loss: \" + str(loss_val))\n",
    "            saver2.save(sess, landmark_ml_model)\n",
    "            \n",
    "            if lowest_loss > loss_val:\n",
    "                lowest_loss = loss_val\n",
    "                saver2.save(sess, landmark_ml_model_best)\n",
    "        step = step + 1\n",
    "            \n",
    "    #Finish the final Model\n",
    "    saver2.save(sess, landmark_ml_model)\n",
    "    end_time = time.time()\n",
    "    total_steps = tf.train.global_step(sess, global_step)\n",
    "    final_time = end_time - start_time\n",
    "    print(\"Did \" + str(total_steps) + \" of loss minimized training in \" + str(final_time) + \" seconds.\")\n",
    "    print(\"Done!\")"
   ]
  },
  {
   "cell_type": "markdown",
   "metadata": {},
   "source": [
    "# Do metric testing\n",
    "\n",
    "Here we will run through all of the training data and relate accuracy with confidence"
   ]
  },
  {
   "cell_type": "code",
   "execution_count": null,
   "metadata": {},
   "outputs": [],
   "source": [
    "out_of_set_net_model = 'D:/AI/models/out_of_set_net/model/out_of_set_net_best'\n",
    "batch_size = 1\n",
    "num_epochs = 1500\n",
    "\n",
    "#Set up frame\n",
    "column_list = ['Item_Number','Category','Category_Index','Category_Strength', 'Max_Confidence_Index_Value','Calculated_Confidence',\n",
    "                                       'Correct_Confidence','Confidence_Score']\n",
    "full_data_frame = pd.DataFrame(columns=column_list)\n",
    "\n",
    "\n",
    "\n",
    "with tf.Session() as sess:\n",
    "    \n",
    "    #build the iterator with all the training data\n",
    "    iterator_test_run = build_iterator(False, val_list, 1, num_epochs=1500, num_parallel_calls=12)\n",
    "    next_test_get = iterator_test_run.get_next()\n",
    "    \n",
    "    #Get Saver Data\n",
    "    new_saver = tf.train.import_meta_graph(out_of_set_net_model + '.meta')\n",
    "    new_saver.restore(sess, out_of_set_net_model)\n",
    "    \n",
    "    #Set up environment for test\n",
    "    training = tf.get_default_graph().get_tensor_by_name(\"training:0\")\n",
    "    \n",
    "    \n",
    "    #Loop Through Test Data\n",
    "    \n",
    "    for i in range(num_epochs):\n",
    "        #get data\n",
    "        X_val, y_val = next_test_get\n",
    "        X_val, y_val = get_values(sess, X_val, y_val)\n",
    "\n",
    "\n",
    "        soft_max_pna = tf.get_default_graph().get_tensor_by_name(\"final_layer/predictions:0\")\n",
    "        soft_max_confidence = tf.get_default_graph().get_tensor_by_name(\"Out_Of_Set_Classifier/Final_Layer/final_soft_max:0\")\n",
    "        X = tf.get_default_graph().get_tensor_by_name(\"input:0\")\n",
    "\n",
    "        y_category = soft_max_pna.eval(feed_dict={X: X_val, training: False})\n",
    "        y_confidence = soft_max_confidence.eval(feed_dict={X: X_val, training: False})\n",
    "        y_confidence_correct = y_val[[0]]\n",
    "\n",
    "        #Append Data Frame with Requried Information\n",
    "        cat_max = np.argmax(y_category)\n",
    "        con_max = np.argmax(y_confidence)\n",
    "\n",
    "        case_number = i\n",
    "        item_name = image_net_dict_file.get(cat_max)\n",
    "        y_category_strength = y_category[[0],[cat_max]][0]\n",
    "        y_confidence_strength = y_confidence[[0],[con_max]][0]\n",
    "        y_confidence_correct = y_val[[0]][0]\n",
    "        confidence_score = y_confidence[[0],[0]][0]\n",
    "\n",
    "        to_add = pd.DataFrame([[case_number,item_name,cat_max,y_category_strength,con_max,y_confidence_strength,\n",
    "                            y_confidence_correct,confidence_score]], columns = column_list)\n",
    "        full_data_frame = full_data_frame.append(to_add)\n"
   ]
  },
  {
   "cell_type": "code",
   "execution_count": null,
   "metadata": {},
   "outputs": [],
   "source": [
    "#Print out the dataframe\n",
    "\n",
    "full_data_frame.to_csv('Out_Of_Set_Test_Run_1.csv', sep=',')"
   ]
  },
  {
   "cell_type": "markdown",
   "metadata": {},
   "source": [
    "# Additional Testing\n",
    "\n",
    "Here are some helpful scripts for doing additional testing"
   ]
  },
  {
   "cell_type": "code",
   "execution_count": 7,
   "metadata": {},
   "outputs": [],
   "source": [
    "#Location and models to use for testing\n",
    "\n",
    "# Model Location\n",
    "res_net_model = 'D:/AI/models/res_net/v2_50/resnet_v2_50.ckpt'\n",
    "landmark_ml_logs = 'D:/AI/models/landmark_ml/logs'\n",
    "landmark_ml_model = 'D:/AI/models/landmark_ml/model/landmark_ml_points_v3'\n",
    "landmark_ml_model_best = 'D:/AI/models/landmark_ml/model/landmark_ml_points_best_v3'"
   ]
  },
  {
   "cell_type": "code",
   "execution_count": null,
   "metadata": {},
   "outputs": [],
   "source": [
    "test_image = PI.open('D:/Machine_Learning/Datasets/corpus_learning/test_image/final_brain.jpg')\n",
    "test_image = np.array(test_image)\n",
    "test_image = test_image.reshape(1,331,331,3)"
   ]
  },
  {
   "cell_type": "code",
   "execution_count": 8,
   "metadata": {},
   "outputs": [
    {
     "name": "stdout",
     "output_type": "stream",
     "text": [
      "INFO:tensorflow:Restoring parameters from D:/AI/models/landmark_ml/model/landmark_ml_points_v3\n"
     ]
    },
    {
     "data": {
      "text/plain": [
       "132.06729"
      ]
     },
     "execution_count": 8,
     "metadata": {},
     "output_type": "execute_result"
    }
   ],
   "source": [
    "#Test a single test image\n",
    "offset_correction = 0\n",
    "\n",
    "with tf.Session() as sess:\n",
    "    #Restore File\n",
    "    saver2.restore(sess, landmark_ml_model)\n",
    "    \n",
    "    #Pull sample from validation set\n",
    "    sess.run(iterator.initializer, feed_dict={filenames: val_list, batch_size: 1, num_epochs:1})\n",
    "    \n",
    "    #\n",
    "    item,Y_estimate,loss_val = sess.run([next_data, final_pdm, total_loss], \n",
    "                                                                  feed_dict={training:False})\n",
    "loss_val"
   ]
  },
  {
   "cell_type": "code",
   "execution_count": 9,
   "metadata": {},
   "outputs": [],
   "source": [
    "X_val = item[0]\n",
    "Y_1 = item[1]\n",
    "Y_2 = item[2]\n",
    "Y_3 = item[3]\n",
    "Y_4 = item[4]\n",
    "file = item[5]"
   ]
  },
  {
   "cell_type": "code",
   "execution_count": 10,
   "metadata": {},
   "outputs": [
    {
     "data": {
      "text/plain": [
       "array([ 169.36372375,  182.75842285,  195.97943115,  159.99433899,\n",
       "        164.82369995,  188.89619446,  126.10115051,  178.85621643])"
      ]
     },
     "execution_count": 10,
     "metadata": {},
     "output_type": "execute_result"
    }
   ],
   "source": [
    "Y_val = np.array([])\n",
    "Y_val = np.append(Y_val,Y_1)\n",
    "Y_val = np.append(Y_val,Y_2)\n",
    "Y_val = np.append(Y_val,Y_3)\n",
    "Y_val = np.append(Y_val,Y_4)\n",
    "Y_val"
   ]
  },
  {
   "cell_type": "code",
   "execution_count": 11,
   "metadata": {},
   "outputs": [
    {
     "data": {
      "text/plain": [
       "array([ 171.3605957 ,  163.07972717,  163.23475647,  170.67422485,\n",
       "        161.7616272 ,  158.71511841,  170.48704529,  161.91467285], dtype=float32)"
      ]
     },
     "execution_count": 11,
     "metadata": {},
     "output_type": "execute_result"
    }
   ],
   "source": [
    "#display an example and label\n",
    "\n",
    "x_val = X_val.reshape(331,331,3)\n",
    "y_val = Y_val\n",
    "x_array = y_val[0:8:2] \n",
    "y_array = y_val[1:8:2]\n",
    "\n",
    "y_est = Y_estimate[0]\n",
    "x_guess = y_est[0:8:2] \n",
    "y_guess = y_est[1:8:2]\n",
    "y_est"
   ]
  },
  {
   "cell_type": "code",
   "execution_count": 12,
   "metadata": {},
   "outputs": [
    {
     "data": {
      "image/png": "[encoded data removed]",
      "text/plain": [
       "<Figure size 432x288 with 1 Axes>"
      ]
     },
     "metadata": {},
     "output_type": "display_data"
    }
   ],
   "source": [
    "#Correct Answer\n",
    "from matplotlib import pyplot as plt\n",
    "plt.imshow(x_val, interpolation='nearest')\n",
    "plt.scatter(x=x_array, y=y_array, c='r', s=40)\n",
    "plt.axis('on')\n",
    "plt.show()"
   ]
  },
  {
   "cell_type": "code",
   "execution_count": 13,
   "metadata": {},
   "outputs": [
    {
     "data": {
      "image/png": "[encoded data removed]",
      "text/plain": [
       "<Figure size 432x288 with 1 Axes>"
      ]
     },
     "metadata": {},
     "output_type": "display_data"
    }
   ],
   "source": [
    "#Guess\n",
    "from matplotlib import pyplot as plt\n",
    "plt.imshow(x_val, interpolation='nearest')\n",
    "plt.scatter(x=x_guess, y=y_guess, c='r', s=40)\n",
    "plt.axis('on')\n",
    "plt.show()"
   ]
  },
  {
   "cell_type": "code",
   "execution_count": null,
   "metadata": {},
   "outputs": [],
   "source": [
    "loss_val"
   ]
  },
  {
   "cell_type": "code",
   "execution_count": null,
   "metadata": {},
   "outputs": [],
   "source": [
    "with tf.Session() as sess:\n",
    "    #restore graph from meta and restore variables\n",
    "    new_saver = tf.train.import_meta_graph(out_of_set_net_best + '.meta')\n",
    "    new_saver.restore(sess, out_of_set_net_best)\n",
    "    soft = tf.get_default_graph().get_tensor_by_name(\"Out_Of_Set_Classifier/Final_Layer/final_soft_max:0\")\n",
    "    input_tensor = tf.get_default_graph().get_tensor_by_name(\"input:0\")\n",
    "    val = soft.eval(feed_dict={input_tensor: cat, training: False})"
   ]
  },
  {
   "cell_type": "code",
   "execution_count": null,
   "metadata": {},
   "outputs": [],
   "source": [
    "current_step\n"
   ]
  },
  {
   "cell_type": "code",
   "execution_count": null,
   "metadata": {},
   "outputs": [],
   "source": [
    "image_net_dict_file"
   ]
  },
  {
   "cell_type": "code",
   "execution_count": null,
   "metadata": {},
   "outputs": [],
   "source": [
    "frame"
   ]
  },
  {
   "cell_type": "code",
   "execution_count": null,
   "metadata": {},
   "outputs": [],
   "source": [
    "list = np.reshape(last_layers, (num_epochs,batch_size,4320))"
   ]
  },
  {
   "cell_type": "code",
   "execution_count": null,
   "metadata": {},
   "outputs": [],
   "source": [
    "list"
   ]
  },
  {
   "cell_type": "code",
   "execution_count": null,
   "metadata": {},
   "outputs": [],
   "source": [
    "with tf.Session() as sess:\n",
    "    #restore saver, build iterator, set the step to the global step\n",
    "    saver2.restore(sess, out_of_set_net_model)\n",
    "    \n",
    "    #Set up the global steps\n",
    "    total_steps = tf.train.global_step(sess, global_step)\n",
    "    \n",
    "    print(\"Did \" + str(total_steps) + \" of loss minimized training in \" + str(final_time) + \" time.\")\n",
    "    print(\"Done!\")"
   ]
  },
  {
   "cell_type": "code",
   "execution_count": null,
   "metadata": {},
   "outputs": [],
   "source": [
    "final_time"
   ]
  },
  {
   "cell_type": "code",
   "execution_count": null,
   "metadata": {},
   "outputs": [],
   "source": []
  }
 ],
 "metadata": {
  "kernelspec": {
   "display_name": "Python 3",
   "language": "python",
   "name": "python3"
  },
  "language_info": {
   "codemirror_mode": {
    "name": "ipython",
    "version": 3
   },
   "file_extension": ".py",
   "mimetype": "text/x-python",
   "name": "python",
   "nbconvert_exporter": "python",
   "pygments_lexer": "ipython3",
   "version": "3.6.3"
  }
 },
 "nbformat": 4,
 "nbformat_minor": 2
}
